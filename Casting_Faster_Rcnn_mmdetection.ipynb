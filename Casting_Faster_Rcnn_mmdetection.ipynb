{
  "nbformat": 4,
  "nbformat_minor": 0,
  "metadata": {
    "colab": {
      "name": "mask-detector.ipynb",
      "provenance": [],
      "collapsed_sections": [],
      "mount_file_id": "1ATsveBG5cooCPfVDw2Jl_oxUYlov1wZ6",
      "authorship_tag": "ABX9TyOcSanlF/237vwOShtdhNDd",
      "include_colab_link": true
    },
    "kernelspec": {
      "display_name": "Python 3",
      "name": "python3"
    },
    "language_info": {
      "name": "python"
    },
    "accelerator": "GPU"
  },
  "cells": [
    {
      "cell_type": "markdown",
      "metadata": {
        "id": "view-in-github",
        "colab_type": "text"
      },
      "source": [
        "<a href=\"https://colab.research.google.com/github/Blazkowiz47/object_detection_projects/blob/master/Casting_Faster_Rcnn_mmdetection.ipynb\" target=\"_parent\"><img src=\"https://colab.research.google.com/assets/colab-badge.svg\" alt=\"Open In Colab\"/></a>"
      ]
    },
    {
      "cell_type": "code",
      "metadata": {
        "id": "bHHEL_e2wBHy"
      },
      "source": [
        "# %cd /content/drive/MyDrive/MMDetection Env/mmdetection\n",
        "# MM Detection is in drive. just go there and install requirements.\n",
        "# !git clone https://github.com/open-mmlab/mmdetection.git\n",
        "# %cd mmdetection\n"
      ],
      "execution_count": null,
      "outputs": []
    },
    {
      "cell_type": "code",
      "metadata": {
        "id": "yKFrHhOuxyyY"
      },
      "source": [
        "########################\n",
        "# Run from here\n",
        "%cd \"/content/drive/MyDrive/MMDetection_Env/mmdetection\"\n",
        "!pip install mmcv-full\n",
        "!pip install -r requirements.txt\n",
        "#########################\n",
        "# %cd mmdetection\n",
        "# !mkdir checkpoints\n",
        "# !wget -c https://openmmlab.oss-cn-hangzhou.aliyuncs.com/mmdetection/v2.0/vfnet/vfnet_r50_fpn_mdconv_c3-c5_mstrain_2x_coco/vfnet_r50_fpn_mdconv_c3-c5_mstrain_2x_coco_20201027pth-6879c318.pth\\\n",
        "#       -O checkpoints/vfnet_r50_fpn_mdconv_c3-c5_mstrain_2x_coco_20201027pth-6879c318.pth"
      ],
      "execution_count": null,
      "outputs": []
    },
    {
      "cell_type": "code",
      "metadata": {
        "colab": {
          "base_uri": "https://localhost:8080/"
        },
        "id": "YHzHH6IbRms3",
        "outputId": "fa95c3da-d1fe-47b8-f971-b6876e7214f3"
      },
      "source": [
        "# %ls \"/content/drive/MyDrive/MMDetection Env/mmdetection/checkpoints\""
      ],
      "execution_count": null,
      "outputs": [
        {
          "output_type": "stream",
          "text": [
            "cascade_rcnn_r50_fpn_1x_coco_20200316-3dc56deb.pth\n",
            "mask_rcnn_r50_fpn_1x_coco_20200205-d4b0c5d6.pth\n",
            "vfnet_r50_fpn_mdconv_c3-c5_mstrain_2x_coco_20201027pth-6879c318.pth\n"
          ],
          "name": "stdout"
        }
      ]
    },
    {
      "cell_type": "code",
      "metadata": {
        "id": "gDxJON2Kxzi-"
      },
      "source": [
        "from mmcv import Config\n",
        "from mmdet.apis import set_random_seed\n",
        "from mmdet.datasets import build_dataset\n",
        "from mmdet.models import build_detector\n",
        "from mmdet.apis import train_detector, init_detector, inference_detector\n",
        "import torch "
      ],
      "execution_count": 2,
      "outputs": []
    },
    {
      "cell_type": "code",
      "metadata": {
        "id": "P8WjG-GWhtb-"
      },
      "source": [
        ""
      ],
      "execution_count": null,
      "outputs": []
    },
    {
      "cell_type": "code",
      "metadata": {
        "colab": {
          "base_uri": "https://localhost:8080/"
        },
        "id": "9o4-P7vCnNf8",
        "outputId": "15f7c723-6c4c-4977-f2e9-b2e6e2fe03c0"
      },
      "source": [
        "cfg = Config.fromfile('./configs/faster_rcnn/faster_rcnn_r50_fpn_1x_coco.py')\n",
        "print(cfg)\n",
        "cfg.dataset_type = 'CocoDataset'\n",
        "cfg.data.classes = (\"defect\", \"flaw\",)\n",
        "cfg.model.roi_head.bbox_head.num_classes = 2\n",
        "# number of classes\n",
        "# cfg.model.roi_head.bbox_head.num_classes = 14\n",
        "# cfg.model.roi_head.mask_head.num_classes = 14\n",
        "\n",
        "print(cfg)\n"
      ],
      "execution_count": 3,
      "outputs": [
        {
          "output_type": "stream",
          "text": [
            "Config (path: ./configs/faster_rcnn/faster_rcnn_r50_fpn_1x_coco.py): {'model': {'type': 'FasterRCNN', 'backbone': {'type': 'ResNet', 'depth': 50, 'num_stages': 4, 'out_indices': (0, 1, 2, 3), 'frozen_stages': 1, 'norm_cfg': {'type': 'BN', 'requires_grad': True}, 'norm_eval': True, 'style': 'pytorch', 'init_cfg': {'type': 'Pretrained', 'checkpoint': 'torchvision://resnet50'}}, 'neck': {'type': 'FPN', 'in_channels': [256, 512, 1024, 2048], 'out_channels': 256, 'num_outs': 5}, 'rpn_head': {'type': 'RPNHead', 'in_channels': 256, 'feat_channels': 256, 'anchor_generator': {'type': 'AnchorGenerator', 'scales': [8], 'ratios': [0.5, 1.0, 2.0], 'strides': [4, 8, 16, 32, 64]}, 'bbox_coder': {'type': 'DeltaXYWHBBoxCoder', 'target_means': [0.0, 0.0, 0.0, 0.0], 'target_stds': [1.0, 1.0, 1.0, 1.0]}, 'loss_cls': {'type': 'CrossEntropyLoss', 'use_sigmoid': True, 'loss_weight': 1.0}, 'loss_bbox': {'type': 'L1Loss', 'loss_weight': 1.0}}, 'roi_head': {'type': 'StandardRoIHead', 'bbox_roi_extractor': {'type': 'SingleRoIExtractor', 'roi_layer': {'type': 'RoIAlign', 'output_size': 7, 'sampling_ratio': 0}, 'out_channels': 256, 'featmap_strides': [4, 8, 16, 32]}, 'bbox_head': {'type': 'Shared2FCBBoxHead', 'in_channels': 256, 'fc_out_channels': 1024, 'roi_feat_size': 7, 'num_classes': 80, 'bbox_coder': {'type': 'DeltaXYWHBBoxCoder', 'target_means': [0.0, 0.0, 0.0, 0.0], 'target_stds': [0.1, 0.1, 0.2, 0.2]}, 'reg_class_agnostic': False, 'loss_cls': {'type': 'CrossEntropyLoss', 'use_sigmoid': False, 'loss_weight': 1.0}, 'loss_bbox': {'type': 'L1Loss', 'loss_weight': 1.0}}}, 'train_cfg': {'rpn': {'assigner': {'type': 'MaxIoUAssigner', 'pos_iou_thr': 0.7, 'neg_iou_thr': 0.3, 'min_pos_iou': 0.3, 'match_low_quality': True, 'ignore_iof_thr': -1}, 'sampler': {'type': 'RandomSampler', 'num': 256, 'pos_fraction': 0.5, 'neg_pos_ub': -1, 'add_gt_as_proposals': False}, 'allowed_border': -1, 'pos_weight': -1, 'debug': False}, 'rpn_proposal': {'nms_pre': 2000, 'max_per_img': 1000, 'nms': {'type': 'nms', 'iou_threshold': 0.7}, 'min_bbox_size': 0}, 'rcnn': {'assigner': {'type': 'MaxIoUAssigner', 'pos_iou_thr': 0.5, 'neg_iou_thr': 0.5, 'min_pos_iou': 0.5, 'match_low_quality': False, 'ignore_iof_thr': -1}, 'sampler': {'type': 'RandomSampler', 'num': 512, 'pos_fraction': 0.25, 'neg_pos_ub': -1, 'add_gt_as_proposals': True}, 'pos_weight': -1, 'debug': False}}, 'test_cfg': {'rpn': {'nms_pre': 1000, 'max_per_img': 1000, 'nms': {'type': 'nms', 'iou_threshold': 0.7}, 'min_bbox_size': 0}, 'rcnn': {'score_thr': 0.05, 'nms': {'type': 'nms', 'iou_threshold': 0.5}, 'max_per_img': 100}}}, 'dataset_type': 'CocoDataset', 'data_root': 'data/coco/', 'img_norm_cfg': {'mean': [123.675, 116.28, 103.53], 'std': [58.395, 57.12, 57.375], 'to_rgb': True}, 'train_pipeline': [{'type': 'LoadImageFromFile'}, {'type': 'LoadAnnotations', 'with_bbox': True}, {'type': 'Resize', 'img_scale': (1333, 800), 'keep_ratio': True}, {'type': 'RandomFlip', 'flip_ratio': 0.5}, {'type': 'Normalize', 'mean': [123.675, 116.28, 103.53], 'std': [58.395, 57.12, 57.375], 'to_rgb': True}, {'type': 'Pad', 'size_divisor': 32}, {'type': 'DefaultFormatBundle'}, {'type': 'Collect', 'keys': ['img', 'gt_bboxes', 'gt_labels']}], 'test_pipeline': [{'type': 'LoadImageFromFile'}, {'type': 'MultiScaleFlipAug', 'img_scale': (1333, 800), 'flip': False, 'transforms': [{'type': 'Resize', 'keep_ratio': True}, {'type': 'RandomFlip'}, {'type': 'Normalize', 'mean': [123.675, 116.28, 103.53], 'std': [58.395, 57.12, 57.375], 'to_rgb': True}, {'type': 'Pad', 'size_divisor': 32}, {'type': 'ImageToTensor', 'keys': ['img']}, {'type': 'Collect', 'keys': ['img']}]}], 'data': {'samples_per_gpu': 2, 'workers_per_gpu': 2, 'train': {'type': 'CocoDataset', 'ann_file': 'data/coco/annotations/instances_train2017.json', 'img_prefix': 'data/coco/train2017/', 'pipeline': [{'type': 'LoadImageFromFile'}, {'type': 'LoadAnnotations', 'with_bbox': True}, {'type': 'Resize', 'img_scale': (1333, 800), 'keep_ratio': True}, {'type': 'RandomFlip', 'flip_ratio': 0.5}, {'type': 'Normalize', 'mean': [123.675, 116.28, 103.53], 'std': [58.395, 57.12, 57.375], 'to_rgb': True}, {'type': 'Pad', 'size_divisor': 32}, {'type': 'DefaultFormatBundle'}, {'type': 'Collect', 'keys': ['img', 'gt_bboxes', 'gt_labels']}]}, 'val': {'type': 'CocoDataset', 'ann_file': 'data/coco/annotations/instances_val2017.json', 'img_prefix': 'data/coco/val2017/', 'pipeline': [{'type': 'LoadImageFromFile'}, {'type': 'MultiScaleFlipAug', 'img_scale': (1333, 800), 'flip': False, 'transforms': [{'type': 'Resize', 'keep_ratio': True}, {'type': 'RandomFlip'}, {'type': 'Normalize', 'mean': [123.675, 116.28, 103.53], 'std': [58.395, 57.12, 57.375], 'to_rgb': True}, {'type': 'Pad', 'size_divisor': 32}, {'type': 'ImageToTensor', 'keys': ['img']}, {'type': 'Collect', 'keys': ['img']}]}]}, 'test': {'type': 'CocoDataset', 'ann_file': 'data/coco/annotations/instances_val2017.json', 'img_prefix': 'data/coco/val2017/', 'pipeline': [{'type': 'LoadImageFromFile'}, {'type': 'MultiScaleFlipAug', 'img_scale': (1333, 800), 'flip': False, 'transforms': [{'type': 'Resize', 'keep_ratio': True}, {'type': 'RandomFlip'}, {'type': 'Normalize', 'mean': [123.675, 116.28, 103.53], 'std': [58.395, 57.12, 57.375], 'to_rgb': True}, {'type': 'Pad', 'size_divisor': 32}, {'type': 'ImageToTensor', 'keys': ['img']}, {'type': 'Collect', 'keys': ['img']}]}]}}, 'evaluation': {'interval': 1, 'metric': 'bbox'}, 'optimizer': {'type': 'SGD', 'lr': 0.02, 'momentum': 0.9, 'weight_decay': 0.0001}, 'optimizer_config': {'grad_clip': None}, 'lr_config': {'policy': 'step', 'warmup': 'linear', 'warmup_iters': 500, 'warmup_ratio': 0.001, 'step': [8, 11]}, 'runner': {'type': 'EpochBasedRunner', 'max_epochs': 12}, 'checkpoint_config': {'interval': 1}, 'log_config': {'interval': 50, 'hooks': [{'type': 'TextLoggerHook'}]}, 'custom_hooks': [{'type': 'NumClassCheckHook'}], 'dist_params': {'backend': 'nccl'}, 'log_level': 'INFO', 'load_from': None, 'resume_from': None, 'workflow': [('train', 1)]}\n",
            "Config (path: ./configs/faster_rcnn/faster_rcnn_r50_fpn_1x_coco.py): {'model': {'type': 'FasterRCNN', 'backbone': {'type': 'ResNet', 'depth': 50, 'num_stages': 4, 'out_indices': (0, 1, 2, 3), 'frozen_stages': 1, 'norm_cfg': {'type': 'BN', 'requires_grad': True}, 'norm_eval': True, 'style': 'pytorch', 'init_cfg': {'type': 'Pretrained', 'checkpoint': 'torchvision://resnet50'}}, 'neck': {'type': 'FPN', 'in_channels': [256, 512, 1024, 2048], 'out_channels': 256, 'num_outs': 5}, 'rpn_head': {'type': 'RPNHead', 'in_channels': 256, 'feat_channels': 256, 'anchor_generator': {'type': 'AnchorGenerator', 'scales': [8], 'ratios': [0.5, 1.0, 2.0], 'strides': [4, 8, 16, 32, 64]}, 'bbox_coder': {'type': 'DeltaXYWHBBoxCoder', 'target_means': [0.0, 0.0, 0.0, 0.0], 'target_stds': [1.0, 1.0, 1.0, 1.0]}, 'loss_cls': {'type': 'CrossEntropyLoss', 'use_sigmoid': True, 'loss_weight': 1.0}, 'loss_bbox': {'type': 'L1Loss', 'loss_weight': 1.0}}, 'roi_head': {'type': 'StandardRoIHead', 'bbox_roi_extractor': {'type': 'SingleRoIExtractor', 'roi_layer': {'type': 'RoIAlign', 'output_size': 7, 'sampling_ratio': 0}, 'out_channels': 256, 'featmap_strides': [4, 8, 16, 32]}, 'bbox_head': {'type': 'Shared2FCBBoxHead', 'in_channels': 256, 'fc_out_channels': 1024, 'roi_feat_size': 7, 'num_classes': 2, 'bbox_coder': {'type': 'DeltaXYWHBBoxCoder', 'target_means': [0.0, 0.0, 0.0, 0.0], 'target_stds': [0.1, 0.1, 0.2, 0.2]}, 'reg_class_agnostic': False, 'loss_cls': {'type': 'CrossEntropyLoss', 'use_sigmoid': False, 'loss_weight': 1.0}, 'loss_bbox': {'type': 'L1Loss', 'loss_weight': 1.0}}}, 'train_cfg': {'rpn': {'assigner': {'type': 'MaxIoUAssigner', 'pos_iou_thr': 0.7, 'neg_iou_thr': 0.3, 'min_pos_iou': 0.3, 'match_low_quality': True, 'ignore_iof_thr': -1}, 'sampler': {'type': 'RandomSampler', 'num': 256, 'pos_fraction': 0.5, 'neg_pos_ub': -1, 'add_gt_as_proposals': False}, 'allowed_border': -1, 'pos_weight': -1, 'debug': False}, 'rpn_proposal': {'nms_pre': 2000, 'max_per_img': 1000, 'nms': {'type': 'nms', 'iou_threshold': 0.7}, 'min_bbox_size': 0}, 'rcnn': {'assigner': {'type': 'MaxIoUAssigner', 'pos_iou_thr': 0.5, 'neg_iou_thr': 0.5, 'min_pos_iou': 0.5, 'match_low_quality': False, 'ignore_iof_thr': -1}, 'sampler': {'type': 'RandomSampler', 'num': 512, 'pos_fraction': 0.25, 'neg_pos_ub': -1, 'add_gt_as_proposals': True}, 'pos_weight': -1, 'debug': False}}, 'test_cfg': {'rpn': {'nms_pre': 1000, 'max_per_img': 1000, 'nms': {'type': 'nms', 'iou_threshold': 0.7}, 'min_bbox_size': 0}, 'rcnn': {'score_thr': 0.05, 'nms': {'type': 'nms', 'iou_threshold': 0.5}, 'max_per_img': 100}}}, 'dataset_type': 'CocoDataset', 'data_root': 'data/coco/', 'img_norm_cfg': {'mean': [123.675, 116.28, 103.53], 'std': [58.395, 57.12, 57.375], 'to_rgb': True}, 'train_pipeline': [{'type': 'LoadImageFromFile'}, {'type': 'LoadAnnotations', 'with_bbox': True}, {'type': 'Resize', 'img_scale': (1333, 800), 'keep_ratio': True}, {'type': 'RandomFlip', 'flip_ratio': 0.5}, {'type': 'Normalize', 'mean': [123.675, 116.28, 103.53], 'std': [58.395, 57.12, 57.375], 'to_rgb': True}, {'type': 'Pad', 'size_divisor': 32}, {'type': 'DefaultFormatBundle'}, {'type': 'Collect', 'keys': ['img', 'gt_bboxes', 'gt_labels']}], 'test_pipeline': [{'type': 'LoadImageFromFile'}, {'type': 'MultiScaleFlipAug', 'img_scale': (1333, 800), 'flip': False, 'transforms': [{'type': 'Resize', 'keep_ratio': True}, {'type': 'RandomFlip'}, {'type': 'Normalize', 'mean': [123.675, 116.28, 103.53], 'std': [58.395, 57.12, 57.375], 'to_rgb': True}, {'type': 'Pad', 'size_divisor': 32}, {'type': 'ImageToTensor', 'keys': ['img']}, {'type': 'Collect', 'keys': ['img']}]}], 'data': {'samples_per_gpu': 2, 'workers_per_gpu': 2, 'train': {'type': 'CocoDataset', 'ann_file': 'data/coco/annotations/instances_train2017.json', 'img_prefix': 'data/coco/train2017/', 'pipeline': [{'type': 'LoadImageFromFile'}, {'type': 'LoadAnnotations', 'with_bbox': True}, {'type': 'Resize', 'img_scale': (1333, 800), 'keep_ratio': True}, {'type': 'RandomFlip', 'flip_ratio': 0.5}, {'type': 'Normalize', 'mean': [123.675, 116.28, 103.53], 'std': [58.395, 57.12, 57.375], 'to_rgb': True}, {'type': 'Pad', 'size_divisor': 32}, {'type': 'DefaultFormatBundle'}, {'type': 'Collect', 'keys': ['img', 'gt_bboxes', 'gt_labels']}]}, 'val': {'type': 'CocoDataset', 'ann_file': 'data/coco/annotations/instances_val2017.json', 'img_prefix': 'data/coco/val2017/', 'pipeline': [{'type': 'LoadImageFromFile'}, {'type': 'MultiScaleFlipAug', 'img_scale': (1333, 800), 'flip': False, 'transforms': [{'type': 'Resize', 'keep_ratio': True}, {'type': 'RandomFlip'}, {'type': 'Normalize', 'mean': [123.675, 116.28, 103.53], 'std': [58.395, 57.12, 57.375], 'to_rgb': True}, {'type': 'Pad', 'size_divisor': 32}, {'type': 'ImageToTensor', 'keys': ['img']}, {'type': 'Collect', 'keys': ['img']}]}]}, 'test': {'type': 'CocoDataset', 'ann_file': 'data/coco/annotations/instances_val2017.json', 'img_prefix': 'data/coco/val2017/', 'pipeline': [{'type': 'LoadImageFromFile'}, {'type': 'MultiScaleFlipAug', 'img_scale': (1333, 800), 'flip': False, 'transforms': [{'type': 'Resize', 'keep_ratio': True}, {'type': 'RandomFlip'}, {'type': 'Normalize', 'mean': [123.675, 116.28, 103.53], 'std': [58.395, 57.12, 57.375], 'to_rgb': True}, {'type': 'Pad', 'size_divisor': 32}, {'type': 'ImageToTensor', 'keys': ['img']}, {'type': 'Collect', 'keys': ['img']}]}]}, 'classes': ('defect', 'flaw')}, 'evaluation': {'interval': 1, 'metric': 'bbox'}, 'optimizer': {'type': 'SGD', 'lr': 0.02, 'momentum': 0.9, 'weight_decay': 0.0001}, 'optimizer_config': {'grad_clip': None}, 'lr_config': {'policy': 'step', 'warmup': 'linear', 'warmup_iters': 500, 'warmup_ratio': 0.001, 'step': [8, 11]}, 'runner': {'type': 'EpochBasedRunner', 'max_epochs': 12}, 'checkpoint_config': {'interval': 1}, 'log_config': {'interval': 50, 'hooks': [{'type': 'TextLoggerHook'}]}, 'custom_hooks': [{'type': 'NumClassCheckHook'}], 'dist_params': {'backend': 'nccl'}, 'log_level': 'INFO', 'load_from': None, 'resume_from': None, 'workflow': [('train', 1)]}\n"
          ],
          "name": "stdout"
        }
      ]
    },
    {
      "cell_type": "code",
      "metadata": {
        "id": "zjP2vmTzyIL4"
      },
      "source": [
        "# !kaggle datasets download -d sreevishnudamodaran/vinbigdata-coco-dataset-with-wbf-3x-downscaled"
      ],
      "execution_count": null,
      "outputs": []
    },
    {
      "cell_type": "code",
      "metadata": {
        "id": "gZvtHvtPwVbK"
      },
      "source": [
        "# ! unzip /root/vinbigdata-coco-dataset-with-wbf-3x-downscaled.zip -d vinbigdata-coco-dataset-with-wbf-3x-downscaled"
      ],
      "execution_count": null,
      "outputs": []
    },
    {
      "cell_type": "code",
      "metadata": {
        "id": "aZ0hUWfZwWBN"
      },
      "source": [
        ""
      ],
      "execution_count": null,
      "outputs": []
    },
    {
      "cell_type": "code",
      "metadata": {
        "id": "_JS0JReZwBPk"
      },
      "source": [
        "PREFIX = '/content/drive/MyDrive/casting/'\n",
        "cfg.data.train.img_prefix = PREFIX + 'train/'\n",
        "cfg.data.train.ann_file = PREFIX + 'train/_annotations.coco.json'\n",
        "cfg.data.train.classes = cfg.data.classes\n",
        "cfg.data.train.type = 'CocoDataset'\n",
        "cfg.data.val.img_prefix = PREFIX + 'val/'\n",
        "cfg.data.val.classes = cfg.data.classes\n",
        "cfg.data.val.ann_file = PREFIX + 'val/_annotations.coco.json'\n",
        "cfg.data.val.type = 'CocoDataset'\n",
        "cfg.data.test.img_prefix = PREFIX + 'test/'\n",
        "cfg.data.test.classes = cfg.data.classes\n",
        "cfg.data.test.ann_file = PREFIX + 'test/_annotations.coco.json'\n",
        "cfg.data.test.type = 'CocoDataset'"
      ],
      "execution_count": 4,
      "outputs": []
    },
    {
      "cell_type": "code",
      "metadata": {
        "id": "sk-WU9r5ojga"
      },
      "source": [
        "cfg.log_config.interval = 1080\n",
        "cfg.optimizer.lr = 0.02/10\n",
        "cfg.lr_config.warmup = None\n",
        "cfg.evaluation.metric = 'bbox'\n",
        "\n",
        "# Set seed thus the results are more reproducible\n",
        "cfg.seed = 0\n",
        "set_random_seed(0, deterministic=False)\n",
        "cfg.gpu_ids = range(1)\n",
        "cfg.load_from = 'checkpoints/faster_rcnn_r50_fpn_1x_coco_20200130-047c8118.pth'\n",
        "cfg.work_dir = \"../faster_rcnn\"\n",
        "cfg.runner.max_epochs = 2\n",
        "cfg.total_epochs = 2"
      ],
      "execution_count": 5,
      "outputs": []
    },
    {
      "cell_type": "code",
      "metadata": {
        "id": "rFCkbpVGojts",
        "colab": {
          "base_uri": "https://localhost:8080/"
        },
        "outputId": "669e3626-6fae-4afd-f1f3-b8071e750438"
      },
      "source": [
        "model = build_detector(cfg.model)\n",
        "datasets = [build_dataset(cfg.data.train)]"
      ],
      "execution_count": 6,
      "outputs": [
        {
          "output_type": "stream",
          "text": [
            "/content/drive/MyDrive/MMDetection_Env/mmdetection/mmdet/core/anchor/builder.py:16: UserWarning: ``build_anchor_generator`` would be deprecated soon, please use ``build_prior_generator`` \n",
            "  '``build_anchor_generator`` would be deprecated soon, please use '\n"
          ],
          "name": "stderr"
        },
        {
          "output_type": "stream",
          "text": [
            "loading annotations into memory...\n",
            "Done (t=40.34s)\n",
            "creating index...\n",
            "index created!\n"
          ],
          "name": "stdout"
        }
      ]
    },
    {
      "cell_type": "code",
      "metadata": {
        "id": "I8ULe2SuPzXc"
      },
      "source": [
        "# !mkdir checkpoints\n",
        "# !wget -c https://openmmlab.oss-cn-hangzhou.aliyuncs.com/mmdetection/v2.0/vfnet/vfnet_r50_fpn_mdconv_c3-c5_mstrain_2x_coco/vfnet_r50_fpn_mdconv_c3-c5_mstrain_2x_coco_20201027pth-6879c318.pth\\\n",
        "#       -O checkpoints/vfnet_r50_fpn_mdconv_c3-c5_mstrain_2x_coco_20201027pth-6879c318.pth"
      ],
      "execution_count": null,
      "outputs": []
    },
    {
      "cell_type": "code",
      "metadata": {
        "id": "9DrmPayKoj8Y",
        "colab": {
          "base_uri": "https://localhost:8080/"
        },
        "outputId": "2b0dba91-1bc3-4ca7-955d-9d0317af363a"
      },
      "source": [
        "train_detector(model, datasets[0], cfg, distributed=False, validate=True, )"
      ],
      "execution_count": 7,
      "outputs": [
        {
          "output_type": "stream",
          "text": [
            "loading annotations into memory...\n"
          ],
          "name": "stdout"
        },
        {
          "output_type": "stream",
          "text": [
            "2021-08-13 02:06:19,959 - mmdet - INFO - load checkpoint from checkpoints/faster_rcnn_r50_fpn_1x_coco_20200130-047c8118.pth\n",
            "2021-08-13 02:06:19,967 - mmdet - INFO - Use load_from_local loader\n"
          ],
          "name": "stderr"
        },
        {
          "output_type": "stream",
          "text": [
            "Done (t=8.19s)\n",
            "creating index...\n",
            "index created!\n"
          ],
          "name": "stdout"
        },
        {
          "output_type": "stream",
          "text": [
            "2021-08-13 02:06:22,752 - mmdet - WARNING - The model and loaded state dict do not match exactly\n",
            "\n",
            "size mismatch for roi_head.bbox_head.fc_cls.weight: copying a param with shape torch.Size([81, 1024]) from checkpoint, the shape in current model is torch.Size([3, 1024]).\n",
            "size mismatch for roi_head.bbox_head.fc_cls.bias: copying a param with shape torch.Size([81]) from checkpoint, the shape in current model is torch.Size([3]).\n",
            "size mismatch for roi_head.bbox_head.fc_reg.weight: copying a param with shape torch.Size([320, 1024]) from checkpoint, the shape in current model is torch.Size([8, 1024]).\n",
            "size mismatch for roi_head.bbox_head.fc_reg.bias: copying a param with shape torch.Size([320]) from checkpoint, the shape in current model is torch.Size([8]).\n",
            "2021-08-13 02:06:22,758 - mmdet - INFO - Start running, host: root@5e905be3e1c1, work_dir: /content/drive/MyDrive/MMDetection_Env/faster_rcnn\n",
            "2021-08-13 02:06:22,761 - mmdet - INFO - Hooks will be executed in the following order:\n",
            "before_run:\n",
            "(VERY_HIGH   ) StepLrUpdaterHook                  \n",
            "(NORMAL      ) CheckpointHook                     \n",
            "(NORMAL      ) EvalHook                           \n",
            "(VERY_LOW    ) TextLoggerHook                     \n",
            " -------------------- \n",
            "before_train_epoch:\n",
            "(VERY_HIGH   ) StepLrUpdaterHook                  \n",
            "(NORMAL      ) EvalHook                           \n",
            "(NORMAL      ) NumClassCheckHook                  \n",
            "(LOW         ) IterTimerHook                      \n",
            "(VERY_LOW    ) TextLoggerHook                     \n",
            " -------------------- \n",
            "before_train_iter:\n",
            "(VERY_HIGH   ) StepLrUpdaterHook                  \n",
            "(NORMAL      ) EvalHook                           \n",
            "(LOW         ) IterTimerHook                      \n",
            " -------------------- \n",
            "after_train_iter:\n",
            "(ABOVE_NORMAL) OptimizerHook                      \n",
            "(NORMAL      ) CheckpointHook                     \n",
            "(NORMAL      ) EvalHook                           \n",
            "(LOW         ) IterTimerHook                      \n",
            "(VERY_LOW    ) TextLoggerHook                     \n",
            " -------------------- \n",
            "after_train_epoch:\n",
            "(NORMAL      ) CheckpointHook                     \n",
            "(NORMAL      ) EvalHook                           \n",
            "(VERY_LOW    ) TextLoggerHook                     \n",
            " -------------------- \n",
            "before_val_epoch:\n",
            "(NORMAL      ) NumClassCheckHook                  \n",
            "(LOW         ) IterTimerHook                      \n",
            "(VERY_LOW    ) TextLoggerHook                     \n",
            " -------------------- \n",
            "before_val_iter:\n",
            "(LOW         ) IterTimerHook                      \n",
            " -------------------- \n",
            "after_val_iter:\n",
            "(LOW         ) IterTimerHook                      \n",
            " -------------------- \n",
            "after_val_epoch:\n",
            "(VERY_LOW    ) TextLoggerHook                     \n",
            " -------------------- \n",
            "2021-08-13 02:06:22,766 - mmdet - INFO - workflow: [('train', 1)], max: 2 epochs\n",
            "/usr/local/lib/python3.7/dist-packages/torch/nn/functional.py:718: UserWarning: Named tensors and all their associated APIs are an experimental feature and subject to change. Please do not use them for anything important until they are released as stable. (Triggered internally at  /pytorch/c10/core/TensorImpl.h:1156.)\n",
            "  return torch.max_pool2d(input, kernel_size, stride, padding, dilation, ceil_mode)\n",
            "/content/drive/MyDrive/MMDetection_Env/mmdetection/mmdet/core/anchor/anchor_generator.py:323: UserWarning: ``grid_anchors`` would be deprecated soon. Please use ``grid_priors`` \n",
            "  warnings.warn('``grid_anchors`` would be deprecated soon. '\n",
            "/content/drive/MyDrive/MMDetection_Env/mmdetection/mmdet/core/anchor/anchor_generator.py:360: UserWarning: ``single_level_grid_anchors`` would be deprecated soon. Please use ``single_level_grid_priors`` \n",
            "  '``single_level_grid_anchors`` would be deprecated soon. '\n",
            "2021-08-13 02:14:19,798 - mmdet - INFO - Epoch [1][1080/3240]\tlr: 2.000e-03, eta: 0:39:44, time: 0.442, data_time: 0.009, memory: 2469, loss_rpn_cls: 0.0201, loss_rpn_bbox: 0.0537, loss_cls: 0.1528, acc: 93.7943, loss_bbox: 0.2460, loss: 0.4727\n",
            "2021-08-13 02:22:17,568 - mmdet - INFO - Epoch [1][2160/3240]\tlr: 2.000e-03, eta: 0:31:49, time: 0.442, data_time: 0.007, memory: 2469, loss_rpn_cls: 0.0089, loss_rpn_bbox: 0.0393, loss_cls: 0.1102, acc: 95.5606, loss_bbox: 0.1748, loss: 0.3331\n",
            "2021-08-13 02:30:17,161 - mmdet - INFO - Epoch [1][3240/3240]\tlr: 2.000e-03, eta: 0:23:54, time: 0.444, data_time: 0.009, memory: 2469, loss_rpn_cls: 0.0081, loss_rpn_bbox: 0.0362, loss_cls: 0.0998, acc: 95.9212, loss_bbox: 0.1598, loss: 0.3040\n",
            "2021-08-13 02:30:17,221 - mmdet - INFO - Saving checkpoint at 1 epochs\n"
          ],
          "name": "stderr"
        },
        {
          "output_type": "stream",
          "text": [
            "[>>>>>>>>>>>>>>>>>>>>>>>>>>>] 1440/1440, 6.0 task/s, elapsed: 238s, ETA:     0s"
          ],
          "name": "stdout"
        },
        {
          "output_type": "stream",
          "text": [
            "2021-08-13 02:34:19,764 - mmdet - INFO - Evaluating bbox...\n"
          ],
          "name": "stderr"
        },
        {
          "output_type": "stream",
          "text": [
            "Loading and preparing results...\n",
            "DONE (t=0.02s)\n",
            "creating index...\n",
            "index created!\n",
            "Running per image evaluation...\n",
            "Evaluate annotation type *bbox*\n",
            "DONE (t=6.13s).\n",
            "Accumulating evaluation results...\n"
          ],
          "name": "stdout"
        },
        {
          "output_type": "stream",
          "text": [
            "2021-08-13 02:34:26,556 - mmdet - INFO - Epoch(val) [1][1440]\tbbox_mAP: 0.8620, bbox_mAP_50: 0.9900, bbox_mAP_75: 0.9490, bbox_mAP_s: 0.4750, bbox_mAP_m: 0.8340, bbox_mAP_l: 0.9330, bbox_mAP_copypaste: 0.862 0.990 0.949 0.475 0.834 0.933\n"
          ],
          "name": "stderr"
        },
        {
          "output_type": "stream",
          "text": [
            "DONE (t=0.55s).\n",
            " Average Precision  (AP) @[ IoU=0.50:0.95 | area=   all | maxDets=100 ] = 0.862\n",
            " Average Precision  (AP) @[ IoU=0.50      | area=   all | maxDets=1000 ] = 0.990\n",
            " Average Precision  (AP) @[ IoU=0.75      | area=   all | maxDets=1000 ] = 0.949\n",
            " Average Precision  (AP) @[ IoU=0.50:0.95 | area= small | maxDets=1000 ] = 0.475\n",
            " Average Precision  (AP) @[ IoU=0.50:0.95 | area=medium | maxDets=1000 ] = 0.834\n",
            " Average Precision  (AP) @[ IoU=0.50:0.95 | area= large | maxDets=1000 ] = 0.933\n",
            " Average Recall     (AR) @[ IoU=0.50:0.95 | area=   all | maxDets=100 ] = 0.887\n",
            " Average Recall     (AR) @[ IoU=0.50:0.95 | area=   all | maxDets=300 ] = 0.887\n",
            " Average Recall     (AR) @[ IoU=0.50:0.95 | area=   all | maxDets=1000 ] = 0.887\n",
            " Average Recall     (AR) @[ IoU=0.50:0.95 | area= small | maxDets=1000 ] = 0.577\n",
            " Average Recall     (AR) @[ IoU=0.50:0.95 | area=medium | maxDets=1000 ] = 0.859\n",
            " Average Recall     (AR) @[ IoU=0.50:0.95 | area= large | maxDets=1000 ] = 0.955\n"
          ],
          "name": "stdout"
        },
        {
          "output_type": "stream",
          "text": [
            "2021-08-13 02:42:20,599 - mmdet - INFO - Epoch [2][1080/3240]\tlr: 2.000e-03, eta: 0:15:54, time: 0.439, data_time: 0.009, memory: 2469, loss_rpn_cls: 0.0071, loss_rpn_bbox: 0.0344, loss_cls: 0.0947, acc: 96.1306, loss_bbox: 0.1525, loss: 0.2888\n",
            "2021-08-13 02:50:11,320 - mmdet - INFO - Epoch [2][2160/3240]\tlr: 2.000e-03, eta: 0:07:55, time: 0.436, data_time: 0.007, memory: 2469, loss_rpn_cls: 0.0058, loss_rpn_bbox: 0.0337, loss_cls: 0.0943, acc: 96.1067, loss_bbox: 0.1495, loss: 0.2833\n",
            "2021-08-13 02:58:02,121 - mmdet - INFO - Epoch [2][3240/3240]\tlr: 2.000e-03, eta: 0:00:00, time: 0.436, data_time: 0.007, memory: 2469, loss_rpn_cls: 0.0063, loss_rpn_bbox: 0.0330, loss_cls: 0.0925, acc: 96.1769, loss_bbox: 0.1444, loss: 0.2761\n",
            "2021-08-13 02:58:02,190 - mmdet - INFO - Saving checkpoint at 2 epochs\n"
          ],
          "name": "stderr"
        },
        {
          "output_type": "stream",
          "text": [
            "[>>>>>>>>>>>>>>>>>>>>>>>>>>] 1440/1440, 10.0 task/s, elapsed: 145s, ETA:     0s"
          ],
          "name": "stdout"
        },
        {
          "output_type": "stream",
          "text": [
            "2021-08-13 03:00:30,784 - mmdet - INFO - Evaluating bbox...\n"
          ],
          "name": "stderr"
        },
        {
          "output_type": "stream",
          "text": [
            "Loading and preparing results...\n",
            "DONE (t=0.02s)\n",
            "creating index...\n",
            "index created!\n",
            "Running per image evaluation...\n",
            "Evaluate annotation type *bbox*\n",
            "DONE (t=5.47s).\n",
            "Accumulating evaluation results...\n"
          ],
          "name": "stdout"
        },
        {
          "output_type": "stream",
          "text": [
            "2021-08-13 03:00:36,853 - mmdet - INFO - Epoch(val) [2][1440]\tbbox_mAP: 0.8810, bbox_mAP_50: 0.9900, bbox_mAP_75: 0.9590, bbox_mAP_s: 0.4950, bbox_mAP_m: 0.8520, bbox_mAP_l: 0.9550, bbox_mAP_copypaste: 0.881 0.990 0.959 0.495 0.852 0.955\n"
          ],
          "name": "stderr"
        },
        {
          "output_type": "stream",
          "text": [
            "DONE (t=0.50s).\n",
            " Average Precision  (AP) @[ IoU=0.50:0.95 | area=   all | maxDets=100 ] = 0.881\n",
            " Average Precision  (AP) @[ IoU=0.50      | area=   all | maxDets=1000 ] = 0.990\n",
            " Average Precision  (AP) @[ IoU=0.75      | area=   all | maxDets=1000 ] = 0.959\n",
            " Average Precision  (AP) @[ IoU=0.50:0.95 | area= small | maxDets=1000 ] = 0.495\n",
            " Average Precision  (AP) @[ IoU=0.50:0.95 | area=medium | maxDets=1000 ] = 0.852\n",
            " Average Precision  (AP) @[ IoU=0.50:0.95 | area= large | maxDets=1000 ] = 0.955\n",
            " Average Recall     (AR) @[ IoU=0.50:0.95 | area=   all | maxDets=100 ] = 0.903\n",
            " Average Recall     (AR) @[ IoU=0.50:0.95 | area=   all | maxDets=300 ] = 0.903\n",
            " Average Recall     (AR) @[ IoU=0.50:0.95 | area=   all | maxDets=1000 ] = 0.903\n",
            " Average Recall     (AR) @[ IoU=0.50:0.95 | area= small | maxDets=1000 ] = 0.570\n",
            " Average Recall     (AR) @[ IoU=0.50:0.95 | area=medium | maxDets=1000 ] = 0.874\n",
            " Average Recall     (AR) @[ IoU=0.50:0.95 | area= large | maxDets=1000 ] = 0.972\n"
          ],
          "name": "stdout"
        }
      ]
    },
    {
      "cell_type": "code",
      "metadata": {
        "colab": {
          "base_uri": "https://localhost:8080/"
        },
        "id": "Bpdy8ogkVCIZ",
        "outputId": "4f0024fb-ef79-4b4d-fe2f-a0f5c0e6f1c1"
      },
      "source": [
        "print(cfg.keys())\n",
        "print(cfg.model.keys())\n",
        "%cd\n",
        "cfg.dump(\"/content/drive/MyDrive/MMDetection_Env/config.py\")"
      ],
      "execution_count": 8,
      "outputs": [
        {
          "output_type": "stream",
          "text": [
            "dict_keys(['model', 'dataset_type', 'data_root', 'img_norm_cfg', 'train_pipeline', 'test_pipeline', 'data', 'evaluation', 'optimizer', 'optimizer_config', 'lr_config', 'runner', 'checkpoint_config', 'log_config', 'custom_hooks', 'dist_params', 'log_level', 'load_from', 'resume_from', 'workflow', 'seed', 'gpu_ids', 'work_dir', 'total_epochs'])\n",
            "dict_keys(['type', 'backbone', 'neck', 'rpn_head', 'roi_head', 'train_cfg', 'test_cfg'])\n",
            "/root\n"
          ],
          "name": "stdout"
        }
      ]
    },
    {
      "cell_type": "code",
      "metadata": {
        "id": "1tbOpmnFHiL_",
        "colab": {
          "base_uri": "https://localhost:8080/",
          "height": 374
        },
        "outputId": "310eb141-8dd0-44ed-a6c3-dd2bcad9c7f6"
      },
      "source": [
        "!pip install mmdet\n",
        "# !conda install pytorch==1.3.0 cudatoolkit=10.0 torchvision -c pytorch\n",
        "\n",
        "# %cd \"/content/drive/MyDrive/MMDetection_Env/mmdetection\"\n",
        "# MODEL = '../config.py'\n",
        "# !python tools/train.py \\\n",
        "#   $MODEL \\\n",
        "#   --cfg-options dataset_type='CocoDataset' \\\n",
        "#   work_dir=\"../faster_rcnn\""
      ],
      "execution_count": 9,
      "outputs": [
        {
          "output_type": "stream",
          "text": [
            "Collecting mmdet\n",
            "  Downloading mmdet-2.15.1-py3-none-any.whl (1.1 MB)\n",
            "\u001b[?25l\r\u001b[K     |▎                               | 10 kB 35.0 MB/s eta 0:00:01\r\u001b[K     |▋                               | 20 kB 23.1 MB/s eta 0:00:01\r\u001b[K     |▉                               | 30 kB 17.8 MB/s eta 0:00:01\r\u001b[K     |█▏                              | 40 kB 16.2 MB/s eta 0:00:01\r\u001b[K     |█▌                              | 51 kB 8.7 MB/s eta 0:00:01\r\u001b[K     |█▊                              | 61 kB 8.3 MB/s eta 0:00:01\r\u001b[K     |██                              | 71 kB 8.9 MB/s eta 0:00:01\r\u001b[K     |██▍                             | 81 kB 10.0 MB/s eta 0:00:01\r\u001b[K     |██▋                             | 92 kB 10.3 MB/s eta 0:00:01\r\u001b[K     |███                             | 102 kB 8.3 MB/s eta 0:00:01\r\u001b[K     |███▎                            | 112 kB 8.3 MB/s eta 0:00:01\r\u001b[K     |███▌                            | 122 kB 8.3 MB/s eta 0:00:01\r\u001b[K     |███▉                            | 133 kB 8.3 MB/s eta 0:00:01\r\u001b[K     |████▏                           | 143 kB 8.3 MB/s eta 0:00:01\r\u001b[K     |████▍                           | 153 kB 8.3 MB/s eta 0:00:01\r\u001b[K     |████▊                           | 163 kB 8.3 MB/s eta 0:00:01\r\u001b[K     |█████                           | 174 kB 8.3 MB/s eta 0:00:01\r\u001b[K     |█████▎                          | 184 kB 8.3 MB/s eta 0:00:01\r\u001b[K     |█████▋                          | 194 kB 8.3 MB/s eta 0:00:01\r\u001b[K     |██████                          | 204 kB 8.3 MB/s eta 0:00:01\r\u001b[K     |██████▏                         | 215 kB 8.3 MB/s eta 0:00:01\r\u001b[K     |██████▌                         | 225 kB 8.3 MB/s eta 0:00:01\r\u001b[K     |██████▉                         | 235 kB 8.3 MB/s eta 0:00:01\r\u001b[K     |███████                         | 245 kB 8.3 MB/s eta 0:00:01\r\u001b[K     |███████▍                        | 256 kB 8.3 MB/s eta 0:00:01\r\u001b[K     |███████▊                        | 266 kB 8.3 MB/s eta 0:00:01\r\u001b[K     |████████                        | 276 kB 8.3 MB/s eta 0:00:01\r\u001b[K     |████████▎                       | 286 kB 8.3 MB/s eta 0:00:01\r\u001b[K     |████████▋                       | 296 kB 8.3 MB/s eta 0:00:01\r\u001b[K     |████████▉                       | 307 kB 8.3 MB/s eta 0:00:01\r\u001b[K     |█████████▏                      | 317 kB 8.3 MB/s eta 0:00:01\r\u001b[K     |█████████▌                      | 327 kB 8.3 MB/s eta 0:00:01\r\u001b[K     |█████████▊                      | 337 kB 8.3 MB/s eta 0:00:01\r\u001b[K     |██████████                      | 348 kB 8.3 MB/s eta 0:00:01\r\u001b[K     |██████████▍                     | 358 kB 8.3 MB/s eta 0:00:01\r\u001b[K     |██████████▋                     | 368 kB 8.3 MB/s eta 0:00:01\r\u001b[K     |███████████                     | 378 kB 8.3 MB/s eta 0:00:01\r\u001b[K     |███████████▎                    | 389 kB 8.3 MB/s eta 0:00:01\r\u001b[K     |███████████▌                    | 399 kB 8.3 MB/s eta 0:00:01\r\u001b[K     |███████████▉                    | 409 kB 8.3 MB/s eta 0:00:01\r\u001b[K     |████████████▏                   | 419 kB 8.3 MB/s eta 0:00:01\r\u001b[K     |████████████▍                   | 430 kB 8.3 MB/s eta 0:00:01\r\u001b[K     |████████████▊                   | 440 kB 8.3 MB/s eta 0:00:01\r\u001b[K     |█████████████                   | 450 kB 8.3 MB/s eta 0:00:01\r\u001b[K     |█████████████▎                  | 460 kB 8.3 MB/s eta 0:00:01\r\u001b[K     |█████████████▋                  | 471 kB 8.3 MB/s eta 0:00:01\r\u001b[K     |██████████████                  | 481 kB 8.3 MB/s eta 0:00:01\r\u001b[K     |██████████████▏                 | 491 kB 8.3 MB/s eta 0:00:01\r\u001b[K     |██████████████▌                 | 501 kB 8.3 MB/s eta 0:00:01\r\u001b[K     |██████████████▉                 | 512 kB 8.3 MB/s eta 0:00:01\r\u001b[K     |███████████████                 | 522 kB 8.3 MB/s eta 0:00:01\r\u001b[K     |███████████████▍                | 532 kB 8.3 MB/s eta 0:00:01\r\u001b[K     |███████████████▊                | 542 kB 8.3 MB/s eta 0:00:01\r\u001b[K     |████████████████                | 552 kB 8.3 MB/s eta 0:00:01\r\u001b[K     |████████████████▎               | 563 kB 8.3 MB/s eta 0:00:01\r\u001b[K     |████████████████▋               | 573 kB 8.3 MB/s eta 0:00:01\r\u001b[K     |████████████████▉               | 583 kB 8.3 MB/s eta 0:00:01\r\u001b[K     |█████████████████▏              | 593 kB 8.3 MB/s eta 0:00:01\r\u001b[K     |█████████████████▌              | 604 kB 8.3 MB/s eta 0:00:01\r\u001b[K     |█████████████████▊              | 614 kB 8.3 MB/s eta 0:00:01\r\u001b[K     |██████████████████              | 624 kB 8.3 MB/s eta 0:00:01\r\u001b[K     |██████████████████▍             | 634 kB 8.3 MB/s eta 0:00:01\r\u001b[K     |██████████████████▋             | 645 kB 8.3 MB/s eta 0:00:01\r\u001b[K     |███████████████████             | 655 kB 8.3 MB/s eta 0:00:01\r\u001b[K     |███████████████████▎            | 665 kB 8.3 MB/s eta 0:00:01\r\u001b[K     |███████████████████▌            | 675 kB 8.3 MB/s eta 0:00:01\r\u001b[K     |███████████████████▉            | 686 kB 8.3 MB/s eta 0:00:01\r\u001b[K     |████████████████████▏           | 696 kB 8.3 MB/s eta 0:00:01\r\u001b[K     |████████████████████▍           | 706 kB 8.3 MB/s eta 0:00:01\r\u001b[K     |████████████████████▊           | 716 kB 8.3 MB/s eta 0:00:01\r\u001b[K     |█████████████████████           | 727 kB 8.3 MB/s eta 0:00:01\r\u001b[K     |█████████████████████▎          | 737 kB 8.3 MB/s eta 0:00:01\r\u001b[K     |█████████████████████▋          | 747 kB 8.3 MB/s eta 0:00:01\r\u001b[K     |██████████████████████          | 757 kB 8.3 MB/s eta 0:00:01\r\u001b[K     |██████████████████████▏         | 768 kB 8.3 MB/s eta 0:00:01\r\u001b[K     |██████████████████████▌         | 778 kB 8.3 MB/s eta 0:00:01\r\u001b[K     |██████████████████████▉         | 788 kB 8.3 MB/s eta 0:00:01\r\u001b[K     |███████████████████████         | 798 kB 8.3 MB/s eta 0:00:01\r\u001b[K     |███████████████████████▍        | 808 kB 8.3 MB/s eta 0:00:01\r\u001b[K     |███████████████████████▊        | 819 kB 8.3 MB/s eta 0:00:01\r\u001b[K     |████████████████████████        | 829 kB 8.3 MB/s eta 0:00:01\r\u001b[K     |████████████████████████▎       | 839 kB 8.3 MB/s eta 0:00:01\r\u001b[K     |████████████████████████▋       | 849 kB 8.3 MB/s eta 0:00:01\r\u001b[K     |████████████████████████▉       | 860 kB 8.3 MB/s eta 0:00:01\r\u001b[K     |█████████████████████████▏      | 870 kB 8.3 MB/s eta 0:00:01\r\u001b[K     |█████████████████████████▌      | 880 kB 8.3 MB/s eta 0:00:01\r\u001b[K     |█████████████████████████▊      | 890 kB 8.3 MB/s eta 0:00:01\r\u001b[K     |██████████████████████████      | 901 kB 8.3 MB/s eta 0:00:01\r\u001b[K     |██████████████████████████▍     | 911 kB 8.3 MB/s eta 0:00:01\r\u001b[K     |██████████████████████████▋     | 921 kB 8.3 MB/s eta 0:00:01\r\u001b[K     |███████████████████████████     | 931 kB 8.3 MB/s eta 0:00:01\r\u001b[K     |███████████████████████████▎    | 942 kB 8.3 MB/s eta 0:00:01\r\u001b[K     |███████████████████████████▌    | 952 kB 8.3 MB/s eta 0:00:01\r\u001b[K     |███████████████████████████▉    | 962 kB 8.3 MB/s eta 0:00:01\r\u001b[K     |████████████████████████████▏   | 972 kB 8.3 MB/s eta 0:00:01\r\u001b[K     |████████████████████████████▍   | 983 kB 8.3 MB/s eta 0:00:01\r\u001b[K     |████████████████████████████▊   | 993 kB 8.3 MB/s eta 0:00:01\r\u001b[K     |█████████████████████████████   | 1.0 MB 8.3 MB/s eta 0:00:01\r\u001b[K     |█████████████████████████████▎  | 1.0 MB 8.3 MB/s eta 0:00:01\r\u001b[K     |█████████████████████████████▋  | 1.0 MB 8.3 MB/s eta 0:00:01\r\u001b[K     |██████████████████████████████  | 1.0 MB 8.3 MB/s eta 0:00:01\r\u001b[K     |██████████████████████████████▏ | 1.0 MB 8.3 MB/s eta 0:00:01\r\u001b[K     |██████████████████████████████▌ | 1.1 MB 8.3 MB/s eta 0:00:01\r\u001b[K     |██████████████████████████████▉ | 1.1 MB 8.3 MB/s eta 0:00:01\r\u001b[K     |███████████████████████████████ | 1.1 MB 8.3 MB/s eta 0:00:01\r\u001b[K     |███████████████████████████████▍| 1.1 MB 8.3 MB/s eta 0:00:01\r\u001b[K     |███████████████████████████████▊| 1.1 MB 8.3 MB/s eta 0:00:01\r\u001b[K     |████████████████████████████████| 1.1 MB 8.3 MB/s eta 0:00:01\r\u001b[K     |████████████████████████████████| 1.1 MB 8.3 MB/s \n",
            "\u001b[?25hRequirement already satisfied: pycocotools in /usr/local/lib/python3.7/dist-packages (from mmdet) (2.0.2)\n",
            "Requirement already satisfied: terminaltables in /usr/local/lib/python3.7/dist-packages (from mmdet) (3.1.0)\n",
            "Requirement already satisfied: numpy in /usr/local/lib/python3.7/dist-packages (from mmdet) (1.19.5)\n",
            "Requirement already satisfied: matplotlib in /usr/local/lib/python3.7/dist-packages (from mmdet) (3.2.2)\n",
            "Requirement already satisfied: six in /usr/local/lib/python3.7/dist-packages (from mmdet) (1.15.0)\n",
            "Requirement already satisfied: cycler>=0.10 in /usr/local/lib/python3.7/dist-packages (from matplotlib->mmdet) (0.10.0)\n",
            "Requirement already satisfied: kiwisolver>=1.0.1 in /usr/local/lib/python3.7/dist-packages (from matplotlib->mmdet) (1.3.1)\n",
            "Requirement already satisfied: pyparsing!=2.0.4,!=2.1.2,!=2.1.6,>=2.0.1 in /usr/local/lib/python3.7/dist-packages (from matplotlib->mmdet) (2.4.7)\n",
            "Requirement already satisfied: python-dateutil>=2.1 in /usr/local/lib/python3.7/dist-packages (from matplotlib->mmdet) (2.8.1)\n",
            "Requirement already satisfied: setuptools>=18.0 in /usr/local/lib/python3.7/dist-packages (from pycocotools->mmdet) (57.2.0)\n",
            "Requirement already satisfied: cython>=0.27.3 in /usr/local/lib/python3.7/dist-packages (from pycocotools->mmdet) (0.29.23)\n",
            "Installing collected packages: mmdet\n",
            "Successfully installed mmdet-2.15.1\n"
          ],
          "name": "stdout"
        },
        {
          "output_type": "display_data",
          "data": {
            "application/vnd.colab-display-data+json": {
              "pip_warning": {
                "packages": [
                  "mmdet"
                ]
              }
            }
          },
          "metadata": {
            "tags": []
          }
        }
      ]
    },
    {
      "cell_type": "code",
      "metadata": {
        "colab": {
          "base_uri": "https://localhost:8080/"
        },
        "id": "WJqA7eT04AgV",
        "outputId": "438693f5-9db4-4310-c2d8-77751c166e32"
      },
      "source": [
        "%cd \"/content/drive/MyDrive/MMDetection_Env/mmdetection\"\n",
        "MODEL = '../config.py'\n",
        "CHECKPOINT = '../faster_rcnn/latest.pth'\n",
        "!python tools/test.py \\\n",
        "  $MODEL \\\n",
        "  $CHECKPOINT \\\n",
        "  --out results.pkl \\\n",
        "  --cfg-options dataset_type='CocoDataset' \\\n",
        "  work_dir=\"../faster_rcnn\"\n"
      ],
      "execution_count": 10,
      "outputs": [
        {
          "output_type": "stream",
          "text": [
            "/content/drive/MyDrive/MMDetection_Env/mmdetection\n",
            "loading annotations into memory...\n",
            "Done (t=5.25s)\n",
            "creating index...\n",
            "index created!\n",
            "/usr/local/lib/python3.7/dist-packages/mmdet/core/anchor/builder.py:16: UserWarning: ``build_anchor_generator`` would be deprecated soon, please use ``build_prior_generator`` \n",
            "  '``build_anchor_generator`` would be deprecated soon, please use '\n",
            "Use load_from_local loader\n",
            "[                                                  ] 0/720, elapsed: 0s, ETA:/usr/local/lib/python3.7/dist-packages/torch/nn/functional.py:718: UserWarning: Named tensors and all their associated APIs are an experimental feature and subject to change. Please do not use them for anything important until they are released as stable. (Triggered internally at  /pytorch/c10/core/TensorImpl.h:1156.)\n",
            "  return torch.max_pool2d(input, kernel_size, stride, padding, dilation, ceil_mode)\n",
            "/usr/local/lib/python3.7/dist-packages/mmdet/core/anchor/anchor_generator.py:323: UserWarning: ``grid_anchors`` would be deprecated soon. Please use ``grid_priors`` \n",
            "  warnings.warn('``grid_anchors`` would be deprecated soon. '\n",
            "/usr/local/lib/python3.7/dist-packages/mmdet/core/anchor/anchor_generator.py:360: UserWarning: ``single_level_grid_anchors`` would be deprecated soon. Please use ``single_level_grid_priors`` \n",
            "  '``single_level_grid_anchors`` would be deprecated soon. '\n",
            "[>>] 720/720, 5.9 task/s, elapsed: 121s, ETA:     0s\n",
            "writing results to results.pkl\n"
          ],
          "name": "stdout"
        }
      ]
    },
    {
      "cell_type": "code",
      "metadata": {
        "id": "EW8mU8bs4AqB"
      },
      "source": [
        "# model = torch.load(\"/content/drive/MyDrive/MMDetection_Env/vinbig/epoch_9.pth\", map_location=torch.device('cpu'))"
      ],
      "execution_count": null,
      "outputs": []
    },
    {
      "cell_type": "code",
      "metadata": {
        "id": "RmH-u8g14BQk",
        "colab": {
          "base_uri": "https://localhost:8080/"
        },
        "outputId": "3350881d-203f-4e97-8301-2243ecced469"
      },
      "source": [
        "# Classify the test images into good and bad\n",
        "config = '../config.py'\n",
        "result = '/content/drive/MyDrive/MMDetection_Env/mmdetection/results.pkl'\n",
        "!python tools/analysis_tools/analyze_results.py \\\n",
        "      $config \\\n",
        "      $result \\\n",
        "      \"../faster_rcnn/results\" \\\n"
      ],
      "execution_count": 11,
      "outputs": [
        {
          "output_type": "stream",
          "text": [
            "loading annotations into memory...\n",
            "Done (t=0.01s)\n",
            "creating index...\n",
            "index created!\n",
            "[>>] 720/720, 2.5 task/s, elapsed: 287s, ETA:     0s"
          ],
          "name": "stdout"
        }
      ]
    },
    {
      "cell_type": "code",
      "metadata": {
        "id": "Ojc-foMl4BT-",
        "colab": {
          "base_uri": "https://localhost:8080/"
        },
        "outputId": "bc12b467-5fd8-4aa9-eac3-76e1f3bc3eef"
      },
      "source": [
        "log = \"../faster_rcnn/20210731_111849.log.json\"\n",
        "!python tools/analysis_tools/analyze_logs.py plot_curve $log --keys acc --legend accuracy --out /content/drive/MyDrive/MMDetection_Env/faster_rcnn/results/20210731_111849_logs_acc_lr_0.002.pdf"
      ],
      "execution_count": 20,
      "outputs": [
        {
          "output_type": "stream",
          "text": [
            "plot curve of ../faster_rcnn/20210731_111849.log.json, metric is acc\n",
            "save curve to: /content/drive/MyDrive/MMDetection_Env/faster_rcnn/results/20210731_111849_logs_acc_lr_0.002.pdf\n"
          ],
          "name": "stdout"
        }
      ]
    },
    {
      "cell_type": "code",
      "metadata": {
        "colab": {
          "base_uri": "https://localhost:8080/"
        },
        "id": "51VrMShKeGAm",
        "outputId": "799ed360-e535-42a9-be3c-ee44d98a1b99"
      },
      "source": [
        "log = \"../faster_rcnn/None.log.modified.json\"\n",
        "!python tools/analysis_tools/analyze_logs.py plot_curve $log --keys acc --legend accuracy   --out /content/drive/MyDrive/MMDetection_Env/faster_rcnn/results/None_logs_acc_loss_lr_0.002.pdf"
      ],
      "execution_count": 18,
      "outputs": [
        {
          "output_type": "stream",
          "text": [
            "plot curve of ../faster_rcnn/None.log.modified.json, metric is acc\n",
            "save curve to: /content/drive/MyDrive/MMDetection_Env/faster_rcnn/results/None_logs_acc_loss_lr_0.002.pdf\n"
          ],
          "name": "stdout"
        }
      ]
    },
    {
      "cell_type": "code",
      "metadata": {
        "id": "mL-m2rpWokMa"
      },
      "source": [
        "import pickle\n",
        "with open(\"/content/drive/MyDrive/MMDetection_Env/vinbig/results.pkl\", 'wb') as f:\n",
        "    pickle.dump(model,f)"
      ],
      "execution_count": null,
      "outputs": []
    },
    {
      "cell_type": "code",
      "metadata": {
        "colab": {
          "base_uri": "https://localhost:8080/"
        },
        "id": "vQ29yratokoP",
        "outputId": "92e63773-a0d6-40a3-a8c2-4e73c5568056"
      },
      "source": [
        "%cd \"./\""
      ],
      "execution_count": null,
      "outputs": [
        {
          "output_type": "stream",
          "text": [
            "/content/mmdetection\n"
          ],
          "name": "stdout"
        }
      ]
    },
    {
      "cell_type": "code",
      "metadata": {
        "colab": {
          "base_uri": "https://localhost:8080/"
        },
        "id": "nsNrctiKokvy",
        "outputId": "ed81a3e6-6fc7-4a51-b03f-aa087c06cf44"
      },
      "source": [
        "%ls\n"
      ],
      "execution_count": null,
      "outputs": [
        {
          "output_type": "stream",
          "text": [
            "\u001b[0m\u001b[01;34mcheckpoints\u001b[0m/  \u001b[01;34mdocs_zh-CN\u001b[0m/      pytest.ini        \u001b[01;34mresources\u001b[0m/   \u001b[01;34mtools\u001b[0m/\n",
            "\u001b[01;34mconfigs\u001b[0m/      LICENSE          README.md         results.pkl\n",
            "\u001b[01;34mdemo\u001b[0m/         MANIFEST.in      README_zh-CN.md   setup.cfg\n",
            "\u001b[01;34mdocker\u001b[0m/       \u001b[01;34mmmdet\u001b[0m/           \u001b[01;34mrequirements\u001b[0m/     \u001b[01;32msetup.py\u001b[0m*\n",
            "\u001b[01;34mdocs\u001b[0m/         model-index.yml  requirements.txt  \u001b[01;34mtests\u001b[0m/\n"
          ],
          "name": "stdout"
        }
      ]
    },
    {
      "cell_type": "code",
      "metadata": {
        "id": "Wkon-q9zok2m"
      },
      "source": [
        "{\n",
        "  \"model\":{\n",
        "    \"type\":\"FasterRCNN\",\n",
        "    \"backbone\":{\n",
        "      \"type\":\"ResNet\",\n",
        "      \"depth\":50,\n",
        "      \"num_stages\":4,\n",
        "      \"out_indices\":(0,\n",
        "      1,\n",
        "      2,\n",
        "      3),\n",
        "      \"frozen_stages\":1,\n",
        "      \"norm_cfg\":{\n",
        "        \"type\":\"BN\",\n",
        "        \"requires_grad\":true\n",
        "      },\n",
        "      \"norm_eval\":true,\n",
        "      \"style\":\"pytorch\",\n",
        "      \"init_cfg\":{\n",
        "        \"type\":\"Pretrained\",\n",
        "        \"checkpoint\":\"torchvision://resnet50\"\n",
        "      }\n",
        "    },\n",
        "    \"neck\":{\n",
        "      \"type\":\"FPN\",\n",
        "      \"in_channels\":[\n",
        "        256,\n",
        "        512,\n",
        "        1024,\n",
        "        2048\n",
        "      ],\n",
        "      \"out_channels\":256,\n",
        "      \"num_outs\":5\n",
        "    },\n",
        "    \"rpn_head\":{\n",
        "      \"type\":\"RPNHead\",\n",
        "      \"in_channels\":256,\n",
        "      \"feat_channels\":256,\n",
        "      \"anchor_generator\":{\n",
        "        \"type\":\"AnchorGenerator\",\n",
        "        \"scales\":[\n",
        "          8\n",
        "        ],\n",
        "        \"ratios\":[\n",
        "          0.5,\n",
        "          1.0,\n",
        "          2.0\n",
        "        ],\n",
        "        \"strides\":[\n",
        "          4,\n",
        "          8,\n",
        "          16,\n",
        "          32,\n",
        "          64\n",
        "        ]\n",
        "      },\n",
        "      \"bbox_coder\":{\n",
        "        \"type\":\"DeltaXYWHBBoxCoder\",\n",
        "        \"target_means\":[\n",
        "          0.0,\n",
        "          0.0,\n",
        "          0.0,\n",
        "          0.0\n",
        "        ],\n",
        "        \"target_stds\":[\n",
        "          1.0,\n",
        "          1.0,\n",
        "          1.0,\n",
        "          1.0\n",
        "        ]\n",
        "      },\n",
        "      \"loss_cls\":{\n",
        "        \"type\":\"CrossEntropyLoss\",\n",
        "        \"use_sigmoid\":true,\n",
        "        \"loss_weight\":1.0\n",
        "      },\n",
        "      \"loss_bbox\":{\n",
        "        \"type\":\"L1Loss\",\n",
        "        \"loss_weight\":1.0\n",
        "      }\n",
        "    },\n",
        "    \"roi_head\":{\n",
        "      \"type\":\"StandardRoIHead\",\n",
        "      \"bbox_roi_extractor\":{\n",
        "        \"type\":\"SingleRoIExtractor\",\n",
        "        \"roi_layer\":{\n",
        "          \"type\":\"RoIAlign\",\n",
        "          \"output_size\":7,\n",
        "          \"sampling_ratio\":0\n",
        "        },\n",
        "        \"out_channels\":256,\n",
        "        \"featmap_strides\":[\n",
        "          4,\n",
        "          8,\n",
        "          16,\n",
        "          32\n",
        "        ]\n",
        "      },\n",
        "      \"bbox_head\":{\n",
        "        \"type\":\"Shared2FCBBoxHead\",\n",
        "        \"in_channels\":256,\n",
        "        \"fc_out_channels\":1024,\n",
        "        \"roi_feat_size\":7,\n",
        "        \"num_classes\":80,\n",
        "        \"bbox_coder\":{\n",
        "          \"type\":\"DeltaXYWHBBoxCoder\",\n",
        "          \"target_means\":[\n",
        "            0.0,\n",
        "            0.0,\n",
        "            0.0,\n",
        "            0.0\n",
        "          ],\n",
        "          \"target_stds\":[\n",
        "            0.1,\n",
        "            0.1,\n",
        "            0.2,\n",
        "            0.2\n",
        "          ]\n",
        "        },\n",
        "        \"reg_class_agnostic\":false,\n",
        "        \"loss_cls\":{\n",
        "          \"type\":\"CrossEntropyLoss\",\n",
        "          \"use_sigmoid\":false,\n",
        "          \"loss_weight\":1.0\n",
        "        },\n",
        "        \"loss_bbox\":{\n",
        "          \"type\":\"L1Loss\",\n",
        "          \"loss_weight\":1.0\n",
        "        }\n",
        "      }\n",
        "    },\n",
        "    \"train_cfg\":{\n",
        "      \"rpn\":{\n",
        "        \"assigner\":{\n",
        "          \"type\":\"MaxIoUAssigner\",\n",
        "          \"pos_iou_thr\":0.7,\n",
        "          \"neg_iou_thr\":0.3,\n",
        "          \"min_pos_iou\":0.3,\n",
        "          \"match_low_quality\":true,\n",
        "          \"ignore_iof_thr\":-1\n",
        "        },\n",
        "        \"sampler\":{\n",
        "          \"type\":\"RandomSampler\",\n",
        "          \"num\":256,\n",
        "          \"pos_fraction\":0.5,\n",
        "          \"neg_pos_ub\":-1,\n",
        "          \"add_gt_as_proposals\":false\n",
        "        },\n",
        "        \"allowed_border\":-1,\n",
        "        \"pos_weight\":-1,\n",
        "        \"debug\":false\n",
        "      },\n",
        "      \"rpn_proposal\":{\n",
        "        \"nms_pre\":2000,\n",
        "        \"max_per_img\":1000,\n",
        "        \"nms\":{\n",
        "          \"type\":\"nms\",\n",
        "          \"iou_threshold\":0.7\n",
        "        },\n",
        "        \"min_bbox_size\":0\n",
        "      },\n",
        "      \"rcnn\":{\n",
        "        \"assigner\":{\n",
        "          \"type\":\"MaxIoUAssigner\",\n",
        "          \"pos_iou_thr\":0.5,\n",
        "          \"neg_iou_thr\":0.5,\n",
        "          \"min_pos_iou\":0.5,\n",
        "          \"match_low_quality\":false,\n",
        "          \"ignore_iof_thr\":-1\n",
        "        },\n",
        "        \"sampler\":{\n",
        "          \"type\":\"RandomSampler\",\n",
        "          \"num\":512,\n",
        "          \"pos_fraction\":0.25,\n",
        "          \"neg_pos_ub\":-1,\n",
        "          \"add_gt_as_proposals\":true\n",
        "        },\n",
        "        \"pos_weight\":-1,\n",
        "        \"debug\":false\n",
        "      }\n",
        "    },\n",
        "    \"test_cfg\":{\n",
        "      \"rpn\":{\n",
        "        \"nms_pre\":1000,\n",
        "        \"max_per_img\":1000,\n",
        "        \"nms\":{\n",
        "          \"type\":\"nms\",\n",
        "          \"iou_threshold\":0.7\n",
        "        },\n",
        "        \"min_bbox_size\":0\n",
        "      },\n",
        "      \"rcnn\":{\n",
        "        \"score_thr\":0.05,\n",
        "        \"nms\":{\n",
        "          \"type\":\"nms\",\n",
        "          \"iou_threshold\":0.5\n",
        "        },\n",
        "        \"max_per_img\":100\n",
        "      }\n",
        "    }\n",
        "  },\n",
        "  \"dataset_type\":\"CocoDataset\",\n",
        "  \"data_root\":\"data/coco/\",\n",
        "  \"img_norm_cfg\":{\n",
        "    \"mean\":[\n",
        "      123.675,\n",
        "      116.28,\n",
        "      103.53\n",
        "    ],\n",
        "    \"std\":[\n",
        "      58.395,\n",
        "      57.12,\n",
        "      57.375\n",
        "    ],\n",
        "    \"to_rgb\":true\n",
        "  },\n",
        "  \"train_pipeline\":[\n",
        "    {\n",
        "      \"type\":\"LoadImageFromFile\"\n",
        "    },\n",
        "    {\n",
        "      \"type\":\"LoadAnnotations\",\n",
        "      \"with_bbox\":true\n",
        "    },\n",
        "    {\n",
        "      \"type\":\"Resize\",\n",
        "      \"img_scale\":(1333,\n",
        "      800),\n",
        "      \"keep_ratio\":true\n",
        "    },\n",
        "    {\n",
        "      \"type\":\"RandomFlip\",\n",
        "      \"flip_ratio\":0.5\n",
        "    },\n",
        "    {\n",
        "      \"type\":\"Normalize\",\n",
        "      \"mean\":[\n",
        "        123.675,\n",
        "        116.28,\n",
        "        103.53\n",
        "      ],\n",
        "      \"std\":[\n",
        "        58.395,\n",
        "        57.12,\n",
        "        57.375\n",
        "      ],\n",
        "      \"to_rgb\":true\n",
        "    },\n",
        "    {\n",
        "      \"type\":\"Pad\",\n",
        "      \"size_divisor\":32\n",
        "    },\n",
        "    {\n",
        "      \"type\":\"DefaultFormatBundle\"\n",
        "    },\n",
        "    {\n",
        "      \"type\":\"Collect\",\n",
        "      \"keys\":[\n",
        "        \"img\",\n",
        "        \"gt_bboxes\",\n",
        "        \"gt_labels\"\n",
        "      ]\n",
        "    }\n",
        "  ],\n",
        "  \"test_pipeline\":[\n",
        "    {\n",
        "      \"type\":\"LoadImageFromFile\"\n",
        "    },\n",
        "    {\n",
        "      \"type\":\"MultiScaleFlipAug\",\n",
        "      \"img_scale\":(1333,\n",
        "      800),\n",
        "      \"flip\":false,\n",
        "      \"transforms\":[\n",
        "        {\n",
        "          \"type\":\"Resize\",\n",
        "          \"keep_ratio\":true\n",
        "        },\n",
        "        {\n",
        "          \"type\":\"RandomFlip\"\n",
        "        },\n",
        "        {\n",
        "          \"type\":\"Normalize\",\n",
        "          \"mean\":[\n",
        "            123.675,\n",
        "            116.28,\n",
        "            103.53\n",
        "          ],\n",
        "          \"std\":[\n",
        "            58.395,\n",
        "            57.12,\n",
        "            57.375\n",
        "          ],\n",
        "          \"to_rgb\":true\n",
        "        },\n",
        "        {\n",
        "          \"type\":\"Pad\",\n",
        "          \"size_divisor\":32\n",
        "        },\n",
        "        {\n",
        "          \"type\":\"ImageToTensor\",\n",
        "          \"keys\":[\n",
        "            \"img\"\n",
        "          ]\n",
        "        },\n",
        "        {\n",
        "          \"type\":\"Collect\",\n",
        "          \"keys\":[\n",
        "            \"img\"\n",
        "          ]\n",
        "        }\n",
        "      ]\n",
        "    }\n",
        "  ],\n",
        "  \"data\":{\n",
        "    \"samples_per_gpu\":2,\n",
        "    \"workers_per_gpu\":2,\n",
        "    \"train\":{\n",
        "      \"type\":\"CocoDataset\",\n",
        "      \"ann_file\":\"data/coco/annotations/instances_train2017.json\",\n",
        "      \"img_prefix\":\"data/coco/train2017/\",\n",
        "      \"pipeline\":[\n",
        "        {\n",
        "          \"type\":\"LoadImageFromFile\"\n",
        "        },\n",
        "        {\n",
        "          \"type\":\"LoadAnnotations\",\n",
        "          \"with_bbox\":true\n",
        "        },\n",
        "        {\n",
        "          \"type\":\"Resize\",\n",
        "          \"img_scale\":(1333,\n",
        "          800),\n",
        "          \"keep_ratio\":true\n",
        "        },\n",
        "        {\n",
        "          \"type\":\"RandomFlip\",\n",
        "          \"flip_ratio\":0.5\n",
        "        },\n",
        "        {\n",
        "          \"type\":\"Normalize\",\n",
        "          \"mean\":[\n",
        "            123.675,\n",
        "            116.28,\n",
        "            103.53\n",
        "          ],\n",
        "          \"std\":[\n",
        "            58.395,\n",
        "            57.12,\n",
        "            57.375\n",
        "          ],\n",
        "          \"to_rgb\":true\n",
        "        },\n",
        "        {\n",
        "          \"type\":\"Pad\",\n",
        "          \"size_divisor\":32\n",
        "        },\n",
        "        {\n",
        "          \"type\":\"DefaultFormatBundle\"\n",
        "        },\n",
        "        {\n",
        "          \"type\":\"Collect\",\n",
        "          \"keys\":[\n",
        "            \"img\",\n",
        "            \"gt_bboxes\",\n",
        "            \"gt_labels\"\n",
        "          ]\n",
        "        }\n",
        "      ]\n",
        "    },\n",
        "    \"val\":{\n",
        "      \"type\":\"CocoDataset\",\n",
        "      \"ann_file\":\"data/coco/annotations/instances_val2017.json\",\n",
        "      \"img_prefix\":\"data/coco/val2017/\",\n",
        "      \"pipeline\":[\n",
        "        {\n",
        "          \"type\":\"LoadImageFromFile\"\n",
        "        },\n",
        "        {\n",
        "          \"type\":\"MultiScaleFlipAug\",\n",
        "          \"img_scale\":(1333,\n",
        "          800),\n",
        "          \"flip\":false,\n",
        "          \"transforms\":[\n",
        "            {\n",
        "              \"type\":\"Resize\",\n",
        "              \"keep_ratio\":true\n",
        "            },\n",
        "            {\n",
        "              \"type\":\"RandomFlip\"\n",
        "            },\n",
        "            {\n",
        "              \"type\":\"Normalize\",\n",
        "              \"mean\":[\n",
        "                123.675,\n",
        "                116.28,\n",
        "                103.53\n",
        "              ],\n",
        "              \"std\":[\n",
        "                58.395,\n",
        "                57.12,\n",
        "                57.375\n",
        "              ],\n",
        "              \"to_rgb\":true\n",
        "            },\n",
        "            {\n",
        "              \"type\":\"Pad\",\n",
        "              \"size_divisor\":32\n",
        "            },\n",
        "            {\n",
        "              \"type\":\"ImageToTensor\",\n",
        "              \"keys\":[\n",
        "                \"img\"\n",
        "              ]\n",
        "            },\n",
        "            {\n",
        "              \"type\":\"Collect\",\n",
        "              \"keys\":[\n",
        "                \"img\"\n",
        "              ]\n",
        "            }\n",
        "          ]\n",
        "        }\n",
        "      ]\n",
        "    },\n",
        "    \"test\":{\n",
        "      \"type\":\"CocoDataset\",\n",
        "      \"ann_file\":\"data/coco/annotations/instances_val2017.json\",\n",
        "      \"img_prefix\":\"data/coco/val2017/\",\n",
        "      \"pipeline\":[\n",
        "        {\n",
        "          \"type\":\"LoadImageFromFile\"\n",
        "        },\n",
        "        {\n",
        "          \"type\":\"MultiScaleFlipAug\",\n",
        "          \"img_scale\":(1333,\n",
        "          800),\n",
        "          \"flip\":false,\n",
        "          \"transforms\":[\n",
        "            {\n",
        "              \"type\":\"Resize\",\n",
        "              \"keep_ratio\":true\n",
        "            },\n",
        "            {\n",
        "              \"type\":\"RandomFlip\"\n",
        "            },\n",
        "            {\n",
        "              \"type\":\"Normalize\",\n",
        "              \"mean\":[\n",
        "                123.675,\n",
        "                116.28,\n",
        "                103.53\n",
        "              ],\n",
        "              \"std\":[\n",
        "                58.395,\n",
        "                57.12,\n",
        "                57.375\n",
        "              ],\n",
        "              \"to_rgb\":true\n",
        "            },\n",
        "            {\n",
        "              \"type\":\"Pad\",\n",
        "              \"size_divisor\":32\n",
        "            },\n",
        "            {\n",
        "              \"type\":\"ImageToTensor\",\n",
        "              \"keys\":[\n",
        "                \"img\"\n",
        "              ]\n",
        "            },\n",
        "            {\n",
        "              \"type\":\"Collect\",\n",
        "              \"keys\":[\n",
        "                \"img\"\n",
        "              ]\n",
        "            }\n",
        "          ]\n",
        "        }\n",
        "      ]\n",
        "    }\n",
        "  },\n",
        "  \"evaluation\":{\n",
        "    \"interval\":1,\n",
        "    \"metric\":\"bbox\"\n",
        "  },\n",
        "  \"optimizer\":{\n",
        "    \"type\":\"SGD\",\n",
        "    \"lr\":0.02,\n",
        "    \"momentum\":0.9,\n",
        "    \"weight_decay\":0.0001\n",
        "  },\n",
        "  \"optimizer_config\":{\n",
        "    \"grad_clip\":\"None\"\n",
        "  },\n",
        "  \"lr_config\":{\n",
        "    \"policy\":\"step\",\n",
        "    \"warmup\":\"linear\",\n",
        "    \"warmup_iters\":500,\n",
        "    \"warmup_ratio\":0.001,\n",
        "    \"step\":[\n",
        "      8,\n",
        "      11\n",
        "    ]\n",
        "  },\n",
        "  \"runner\":{\n",
        "    \"type\":\"EpochBasedRunner\",\n",
        "    \"max_epochs\":12\n",
        "  },\n",
        "  \"checkpoint_config\":{\n",
        "    \"interval\":1\n",
        "  },\n",
        "  \"log_config\":{\n",
        "    \"interval\":50,\n",
        "    \"hooks\":[\n",
        "      {\n",
        "        \"type\":\"TextLoggerHook\"\n",
        "      }\n",
        "    ]\n",
        "  },\n",
        "  \"custom_hooks\":[\n",
        "    {\n",
        "      \"type\":\"NumClassCheckHook\"\n",
        "    }\n",
        "  ],\n",
        "  \"dist_params\":{\n",
        "    \"backend\":\"nccl\"\n",
        "  },\n",
        "  \"log_level\":\"INFO\",\n",
        "  \"load_from\":\"None\",\n",
        "  \"resume_from\":\"None\",\n",
        "  \"workflow\":[\n",
        "    \"(\"\"train\",\n",
        "    1)\n",
        "  ]\n",
        "}"
      ],
      "execution_count": null,
      "outputs": []
    },
    {
      "cell_type": "code",
      "metadata": {
        "id": "iSrNy_ItbR-r"
      },
      "source": [
        ""
      ],
      "execution_count": null,
      "outputs": []
    },
    {
      "cell_type": "code",
      "metadata": {
        "id": "zU9dQ8POok8B"
      },
      "source": [
        ""
      ],
      "execution_count": null,
      "outputs": []
    },
    {
      "cell_type": "code",
      "metadata": {
        "id": "MFGdHiV8olDE"
      },
      "source": [
        ""
      ],
      "execution_count": null,
      "outputs": []
    },
    {
      "cell_type": "code",
      "metadata": {
        "id": "0UX4AOm8olKu"
      },
      "source": [
        ""
      ],
      "execution_count": null,
      "outputs": []
    },
    {
      "cell_type": "code",
      "metadata": {
        "id": "_nkH-IpholUa"
      },
      "source": [
        ""
      ],
      "execution_count": null,
      "outputs": []
    },
    {
      "cell_type": "code",
      "metadata": {
        "id": "a5f2w3N9olcW"
      },
      "source": [
        ""
      ],
      "execution_count": null,
      "outputs": []
    },
    {
      "cell_type": "code",
      "metadata": {
        "id": "g2tXpysholiz"
      },
      "source": [
        ""
      ],
      "execution_count": null,
      "outputs": []
    },
    {
      "cell_type": "code",
      "metadata": {
        "id": "N7HN_UeVolqj"
      },
      "source": [
        ""
      ],
      "execution_count": null,
      "outputs": []
    }
  ]
}